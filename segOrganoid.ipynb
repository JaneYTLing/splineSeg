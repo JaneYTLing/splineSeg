{
 "cells": [
  {
   "cell_type": "markdown",
   "metadata": {},
   "source": [
    "to segment and recognise inner and outer boundaries of the organoids"
   ]
  },
  {
   "cell_type": "code",
   "execution_count": 33,
   "metadata": {},
   "outputs": [],
   "source": [
    "import numpy as np\n",
    "import napari\n",
    "from skimage.io import imread, imshow\n",
    "from skimage.transform import resize\n",
    "from skimage import filters\n",
    "from skimage.filters import threshold_otsu, threshold_multiotsu\n",
    "from skimage.measure import regionprops, label\n",
    "from skimage.morphology import area_closing\n",
    "# import cupy as cp\n",
    "# from sys import getsizeof\n",
    "# import pyclesperanto_prototype as cle\n",
    "import cv2 as cv\n",
    "import scipy\n",
    "import pandas as pd\n",
    "from matplotlib.pyplot import subplots\n",
    "import os\n",
    "import napari"
   ]
  },
  {
   "cell_type": "code",
   "execution_count": 3,
   "metadata": {},
   "outputs": [
    {
     "data": {
      "text/plain": [
       "(17, 1024, 1024)"
      ]
     },
     "execution_count": 3,
     "metadata": {},
     "output_type": "execute_result"
    }
   ],
   "source": [
    "image = imread('/Users/mandalt/A_PhD/ImageData/3D/20240710/splitChannels/DAPIC1-032_50cm_d15_shh_1x_05.tif')\n",
    "image.shape"
   ]
  },
  {
   "cell_type": "code",
   "execution_count": 5,
   "metadata": {},
   "outputs": [
    {
     "data": {
      "text/plain": [
       "<Image layer 'DAPI' at 0x16c28a810>"
      ]
     },
     "execution_count": 5,
     "metadata": {},
     "output_type": "execute_result"
    }
   ],
   "source": [
    "imagez7 = image[6,:,:]\n",
    "# imagez7.imshow()\n",
    "\n",
    "viewer = napari.Viewer()\n",
    "viewer.add_image(imagez7, rgb=False, name='DAPI')"
   ]
  },
  {
   "cell_type": "code",
   "execution_count": 8,
   "metadata": {},
   "outputs": [
    {
     "data": {
      "text/plain": [
       "<Image layer 'DAPI+gf' at 0x12c07a390>"
      ]
     },
     "execution_count": 8,
     "metadata": {},
     "output_type": "execute_result"
    }
   ],
   "source": [
    "# apply gaussian filter\n",
    "\n",
    "imagez7_gf=filters.gaussian(imagez7, sigma=5)\n",
    "\n",
    "viewer.add_image(imagez7_gf, rgb=False, name='DAPI+gf')"
   ]
  },
  {
   "cell_type": "code",
   "execution_count": 10,
   "metadata": {},
   "outputs": [
    {
     "data": {
      "text/plain": [
       "<Image layer 'threshold_binary' at 0x1797e02c0>"
      ]
     },
     "execution_count": 10,
     "metadata": {},
     "output_type": "execute_result"
    }
   ],
   "source": [
    "\n",
    "imagez7_th = threshold_otsu(imagez7_gf)\n",
    "binary=imagez7_gf>imagez7_th\n",
    "viewer.add_image(binary, rgb=False, name='threshold_binary', opacity=1.0, rendering='mip', blending='additive', colormap='gray')\n"
   ]
  },
  {
   "cell_type": "code",
   "execution_count": 16,
   "metadata": {},
   "outputs": [
    {
     "data": {
      "text/plain": [
       "<Image layer 'out' at 0x3040361b0>"
      ]
     },
     "execution_count": 16,
     "metadata": {},
     "output_type": "execute_result"
    }
   ],
   "source": [
    "l = label(binary)\n",
    "out = (l==np.bincount(l.ravel())[1:].argmax()+1).astype(int)\n",
    "out\n",
    "\n",
    "viewer.add_image(out)\n"
   ]
  },
  {
   "cell_type": "code",
   "execution_count": 17,
   "metadata": {},
   "outputs": [
    {
     "data": {
      "text/plain": [
       "<Image layer 'mask_boundary' at 0x30959b470>"
      ]
     },
     "execution_count": 17,
     "metadata": {},
     "output_type": "execute_result"
    }
   ],
   "source": [
    "mask_boundary = skimage.segmentation.find_boundaries(out > 0, mode='outer')\n",
    "viewer.add_image(mask_boundary)"
   ]
  },
  {
   "cell_type": "code",
   "execution_count": 18,
   "metadata": {},
   "outputs": [
    {
     "data": {
      "text/plain": [
       "<Image layer 'dapi_gf_out' at 0x30954cf50>"
      ]
     },
     "execution_count": 18,
     "metadata": {},
     "output_type": "execute_result"
    }
   ],
   "source": [
    "dapi_gf_out = out*imagez7_gf\n",
    "\n",
    "viewer.add_image(dapi_gf_out)"
   ]
  },
  {
   "cell_type": "code",
   "execution_count": 28,
   "metadata": {},
   "outputs": [
    {
     "data": {
      "text/plain": [
       "<Image layer 'threshold_binary [1]' at 0x30df3dd00>"
      ]
     },
     "execution_count": 28,
     "metadata": {},
     "output_type": "execute_result"
    }
   ],
   "source": [
    "\n",
    "imagez7_th2 = threshold_multiotsu(dapi_gf_out,classes=4)\n",
    "\n",
    "imagez7_th2\n",
    "# binary2=[dapi_gf_out<imagez7_th2[1] * dapi_gf_out>imagez7_th2[0]]\n",
    "\n",
    "binary2=dapi_gf_out<imagez7_th2[1]\n",
    "binary2 = binary2*out\n",
    "\n",
    "binary2\n",
    "viewer.add_image(binary2, rgb=False, name='threshold_binary', opacity=1.0, rendering='mip', blending='additive', colormap='gray')\n"
   ]
  },
  {
   "cell_type": "code",
   "execution_count": 46,
   "metadata": {},
   "outputs": [
    {
     "data": {
      "text/plain": [
       "array([[0, 0, 0, ..., 0, 0, 0],\n",
       "       [0, 0, 0, ..., 0, 0, 0],\n",
       "       [0, 0, 0, ..., 0, 0, 0],\n",
       "       ...,\n",
       "       [0, 0, 0, ..., 0, 0, 0],\n",
       "       [0, 0, 0, ..., 0, 0, 0],\n",
       "       [0, 0, 0, ..., 0, 0, 0]])"
      ]
     },
     "execution_count": 46,
     "metadata": {},
     "output_type": "execute_result"
    }
   ],
   "source": [
    "binary2"
   ]
  },
  {
   "cell_type": "code",
   "execution_count": 45,
   "metadata": {},
   "outputs": [
    {
     "data": {
      "text/plain": [
       "<Image layer 'holesFilled' at 0x336c13020>"
      ]
     },
     "execution_count": 45,
     "metadata": {},
     "output_type": "execute_result"
    }
   ],
   "source": [
    "\n",
    "mask2 = cv.inRange(binary2, 0.5, 1)\n",
    "kernel_7=cv.getStructuringElement(cv.MORPH_ELLIPSE,(7,7))\n",
    "holesFilled = cv.morphologyEx(mask2, cv.MORPH_CLOSE, kernel_7)\n",
    "\n",
    "\n",
    "viewer.add_image(holesFilled)"
   ]
  },
  {
   "cell_type": "code",
   "execution_count": null,
   "metadata": {},
   "outputs": [],
   "source": [
    "#  plot settings\n",
    "plt.gray()\n",
    "plt.rcParams['font.size'] = 22\n",
    "plt.rcParams['text.color'] = 'black'\n",
    "plt.rcParams['axes.linewidth'] = 2\n",
    "plt.rcParams['axes.edgecolor'] = 'black'\n",
    "plt.rcParams['figure.facecolor'] = 'white'\n",
    "plt.rcParams['axes.facecolor'] = 'white'"
   ]
  }
 ],
 "metadata": {
  "kernelspec": {
   "display_name": "cbias-project",
   "language": "python",
   "name": "python3"
  },
  "language_info": {
   "codemirror_mode": {
    "name": "ipython",
    "version": 3
   },
   "file_extension": ".py",
   "mimetype": "text/x-python",
   "name": "python",
   "nbconvert_exporter": "python",
   "pygments_lexer": "ipython3",
   "version": "3.12.2"
  }
 },
 "nbformat": 4,
 "nbformat_minor": 2
}
